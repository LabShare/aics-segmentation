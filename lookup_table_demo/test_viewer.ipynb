{
 "cells": [
  {
   "cell_type": "code",
   "execution_count": null,
   "metadata": {},
   "outputs": [],
   "source": [
    "### install necessary packages if in colab\n",
    "def run_subprocess_command(cmd):\n",
    "    process = subprocess.Popen(cmd.split(), stdout=subprocess.PIPE)\n",
    "    for line in process.stdout:\n",
    "        print(line.decode().strip())\n",
    "\n",
    "import sys, subprocess\n",
    "\n",
    "IN_COLAB = \"google.colab\" in sys.modules\n",
    "colab_requirements = [\n",
    "    \"pip install aicssegmentation\",\n",
    "    \"pip install itkwidgets\",\n",
    "    \"pip install urllib3>=1.25.11\",\n",
    "    \"pip install PyYAML>=5.3.1\",\n",
    "    \"pip install quilt3\"\n",
    "]\n",
    "if IN_COLAB:\n",
    "    for i in colab_requirements:\n",
    "        run_subprocess_command(i)"
   ]
  },
  {
   "cell_type": "code",
   "execution_count": null,
   "metadata": {},
   "outputs": [],
   "source": [
    "# necessary setup\n",
    "# define the plugin\n",
    "class ViewerPlugin():\n",
    "  def __init__(self, image):\n",
    "        self.image = image\n",
    "  async def setup(self):\n",
    "        pass\n",
    "  async def run(self, ctx):\n",
    "        viewer = await api.createWindow(src=\"https://oeway.github.io/itk-vtk-viewer/\")\n",
    "        await viewer.imshow(self.image)\n",
    "\n",
    "def new_view(images):\n",
    "    api.export(ViewerPlugin(images))"
   ]
  },
  {
   "cell_type": "code",
   "execution_count": null,
   "metadata": {},
   "outputs": [],
   "source": [
    "import quilt3\n",
    "\n",
    "# connect to quilt\n",
    "pkg = quilt3.Package.browse(\"aics/pipeline_integrated_cell\", registry=\"s3://allencell\")"
   ]
  },
  {
   "cell_type": "code",
   "execution_count": null,
   "metadata": {},
   "outputs": [],
   "source": [
    "# fetch one example\n",
    "str_name = 'ST6GAL1'\n",
    "local_fn = './test_img.tiff'\n",
    "df = pkg[\"metadata.csv\"]()\n",
    "fn = df[df[\"Gene\"]==str_name].SourceReadPath.iloc[0]\n",
    "pkg[fn.split('/',2)[0]][fn.split('/',2)[1]].fetch(local_fn)"
   ]
  },
  {
   "cell_type": "code",
   "execution_count": null,
   "metadata": {},
   "outputs": [],
   "source": [
    "# read the image\n",
    "reader = AICSImage(local_fn)"
   ]
  },
  {
   "cell_type": "code",
   "execution_count": null,
   "metadata": {},
   "outputs": [],
   "source": [
    "# get the DNA channel\n",
    "im = reader.get_image_data('ZYX', C=5, S=0, T=0)"
   ]
  },
  {
   "cell_type": "code",
   "execution_count": 8,
   "metadata": {},
   "outputs": [],
   "source": [
    "new_view(im[:,:300,:300])"
   ]
  },
  {
   "cell_type": "code",
   "execution_count": 5,
   "metadata": {},
   "outputs": [],
   "source": []
  },
  {
   "cell_type": "code",
   "execution_count": null,
   "metadata": {},
   "outputs": [],
   "source": []
  }
 ],
 "metadata": {
  "kernelspec": {
   "display_name": "Python 3",
   "language": "python",
   "name": "python3"
  },
  "language_info": {
   "codemirror_mode": {
    "name": "ipython",
    "version": 3
   },
   "file_extension": ".py",
   "mimetype": "text/x-python",
   "name": "python",
   "nbconvert_exporter": "python",
   "pygments_lexer": "ipython3",
   "version": "3.8.5"
  }
 },
 "nbformat": 4,
 "nbformat_minor": 2
}
